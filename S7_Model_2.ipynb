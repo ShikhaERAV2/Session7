{
  "cells": [
    {
      "cell_type": "markdown",
      "metadata": {
        "id": "aO-7t1Y7-hV4"
      },
      "source": [
        "# Import Libraries"
      ]
    },
    {
      "cell_type": "code",
      "execution_count": 1,
      "metadata": {
        "id": "8kH16rnZ7wt_"
      },
      "outputs": [],
      "source": [
        "from __future__ import print_function\n",
        "import torch\n",
        "import torch.nn as nn\n",
        "import torch.nn.functional as F\n",
        "import torch.optim as optim\n",
        "from torchvision import datasets, transforms\n",
        "import matplotlib.pyplot as plt"
      ]
    },
    {
      "cell_type": "code",
      "source": [
        "#!pip install torchsummary\n",
        "from torchsummary import summary\n",
        "use_cuda = torch.cuda.is_available()\n",
        "device = torch.device(\"cuda\" if use_cuda else \"cpu\")\n",
        "print(device)"
      ],
      "metadata": {
        "colab": {
          "base_uri": "https://localhost:8080/"
        },
        "id": "3hQwU37XpUzN",
        "outputId": "e9a5d1df-2c0a-4324-8444-79f02813138d"
      },
      "execution_count": 2,
      "outputs": [
        {
          "output_type": "stream",
          "name": "stdout",
          "text": [
            "cuda\n"
          ]
        }
      ]
    },
    {
      "cell_type": "markdown",
      "metadata": {
        "id": "ky3f_Odl-7um"
      },
      "source": [
        "## Data Transformations\n",
        "\n",
        "We first start with defining our data transformations. We need to think what our data is and how can we augment it to correct represent images which it might not see otherwise.\n"
      ]
    },
    {
      "cell_type": "code",
      "execution_count": 3,
      "metadata": {
        "id": "YtssFUKb-jqx"
      },
      "outputs": [],
      "source": [
        "# Train Phase transformations\n",
        "train_transforms = transforms.Compose([\n",
        "                                       transforms.RandomRotation((-10,10), fill=(1,)),\n",
        "                                       transforms.ToTensor(),\n",
        "                                       transforms.Normalize((0.1307,), (0.3081,)) # The mean and std have to be sequences (e.g., tuples), therefore you should add a comma after the values.\n",
        "                                       ])\n",
        "\n",
        "# Test Phase transformations\n",
        "test_transforms = transforms.Compose([\n",
        "                                       transforms.ToTensor(),\n",
        "                                       transforms.Normalize((0.1307,), (0.3081,))\n",
        "                                       ])\n"
      ]
    },
    {
      "cell_type": "markdown",
      "metadata": {
        "id": "oQciFYo2B1mO"
      },
      "source": [
        "# Dataset and Creating Train/Test Split"
      ]
    },
    {
      "cell_type": "code",
      "execution_count": 4,
      "metadata": {
        "id": "_4A84rlfDA23",
        "colab": {
          "base_uri": "https://localhost:8080/"
        },
        "outputId": "0aab56c5-bf4b-4d4c-fb88-baf4a4e5b6cb"
      },
      "outputs": [
        {
          "output_type": "stream",
          "name": "stdout",
          "text": [
            "Downloading http://yann.lecun.com/exdb/mnist/train-images-idx3-ubyte.gz\n",
            "Downloading http://yann.lecun.com/exdb/mnist/train-images-idx3-ubyte.gz to ./data/MNIST/raw/train-images-idx3-ubyte.gz\n"
          ]
        },
        {
          "output_type": "stream",
          "name": "stderr",
          "text": [
            "100%|██████████| 9912422/9912422 [00:00<00:00, 73772437.43it/s]\n"
          ]
        },
        {
          "output_type": "stream",
          "name": "stdout",
          "text": [
            "Extracting ./data/MNIST/raw/train-images-idx3-ubyte.gz to ./data/MNIST/raw\n",
            "\n",
            "Downloading http://yann.lecun.com/exdb/mnist/train-labels-idx1-ubyte.gz\n",
            "Downloading http://yann.lecun.com/exdb/mnist/train-labels-idx1-ubyte.gz to ./data/MNIST/raw/train-labels-idx1-ubyte.gz\n"
          ]
        },
        {
          "output_type": "stream",
          "name": "stderr",
          "text": [
            "100%|██████████| 28881/28881 [00:00<00:00, 21798757.21it/s]\n"
          ]
        },
        {
          "output_type": "stream",
          "name": "stdout",
          "text": [
            "Extracting ./data/MNIST/raw/train-labels-idx1-ubyte.gz to ./data/MNIST/raw\n",
            "\n",
            "Downloading http://yann.lecun.com/exdb/mnist/t10k-images-idx3-ubyte.gz\n",
            "Downloading http://yann.lecun.com/exdb/mnist/t10k-images-idx3-ubyte.gz to ./data/MNIST/raw/t10k-images-idx3-ubyte.gz\n"
          ]
        },
        {
          "output_type": "stream",
          "name": "stderr",
          "text": [
            "100%|██████████| 1648877/1648877 [00:00<00:00, 25603886.54it/s]\n"
          ]
        },
        {
          "output_type": "stream",
          "name": "stdout",
          "text": [
            "Extracting ./data/MNIST/raw/t10k-images-idx3-ubyte.gz to ./data/MNIST/raw\n",
            "\n",
            "Downloading http://yann.lecun.com/exdb/mnist/t10k-labels-idx1-ubyte.gz\n",
            "Downloading http://yann.lecun.com/exdb/mnist/t10k-labels-idx1-ubyte.gz to ./data/MNIST/raw/t10k-labels-idx1-ubyte.gz\n"
          ]
        },
        {
          "output_type": "stream",
          "name": "stderr",
          "text": [
            "100%|██████████| 4542/4542 [00:00<00:00, 17904632.30it/s]\n"
          ]
        },
        {
          "output_type": "stream",
          "name": "stdout",
          "text": [
            "Extracting ./data/MNIST/raw/t10k-labels-idx1-ubyte.gz to ./data/MNIST/raw\n",
            "\n"
          ]
        }
      ],
      "source": [
        "train = datasets.MNIST('./data', train=True, download=True, transform=train_transforms)\n",
        "test = datasets.MNIST('./data', train=False, download=True, transform=test_transforms)"
      ]
    },
    {
      "cell_type": "markdown",
      "metadata": {
        "id": "qgldp_3-Dn0c"
      },
      "source": [
        "# Dataloader Arguments & Test/Train Dataloaders\n"
      ]
    },
    {
      "cell_type": "code",
      "execution_count": 5,
      "metadata": {
        "colab": {
          "base_uri": "https://localhost:8080/"
        },
        "id": "C8OLDR79DrHG",
        "outputId": "992dbcf4-35cd-48bd-c158-8660349aa98a"
      },
      "outputs": [
        {
          "output_type": "stream",
          "name": "stdout",
          "text": [
            "CUDA Available? True\n"
          ]
        },
        {
          "output_type": "stream",
          "name": "stderr",
          "text": [
            "/usr/local/lib/python3.10/dist-packages/torch/utils/data/dataloader.py:558: UserWarning: This DataLoader will create 4 worker processes in total. Our suggested max number of worker in current system is 2, which is smaller than what this DataLoader is going to create. Please be aware that excessive worker creation might get DataLoader running slow or even freeze, lower the worker number to avoid potential slowness/freeze if necessary.\n",
            "  warnings.warn(_create_warning_msg(\n"
          ]
        }
      ],
      "source": [
        "SEED = 1\n",
        "\n",
        "# CUDA?\n",
        "cuda = torch.cuda.is_available()\n",
        "print(\"CUDA Available?\", cuda)\n",
        "\n",
        "# For reproducibility\n",
        "torch.manual_seed(SEED)\n",
        "\n",
        "if cuda:\n",
        "    torch.cuda.manual_seed(SEED)\n",
        "\n",
        "# dataloader arguments - something you'll fetch these from cmdprmt\n",
        "dataloader_args = dict(shuffle=True, batch_size=128, num_workers=4, pin_memory=True) if cuda else dict(shuffle=True, batch_size=64)\n",
        "\n",
        "# train dataloader\n",
        "train_loader = torch.utils.data.DataLoader(train, **dataloader_args)\n",
        "\n",
        "# test dataloader\n",
        "test_loader = torch.utils.data.DataLoader(test, **dataloader_args)"
      ]
    },
    {
      "cell_type": "markdown",
      "metadata": {
        "id": "ubQL3H6RJL3h"
      },
      "source": [
        "# The model\n",
        "Let's start with the model we first saw"
      ]
    },
    {
      "cell_type": "code",
      "source": [
        "# importing the model from the model.py\n",
        "from model import Net\n",
        "\n",
        "model = Net().to(device)\n",
        "summary(model, input_size=(1, 28, 28))"
      ],
      "metadata": {
        "colab": {
          "base_uri": "https://localhost:8080/"
        },
        "id": "dCFNyR9P_rex",
        "outputId": "2bc9a958-efe9-44c0-acf7-43e6c3409528"
      },
      "execution_count": 7,
      "outputs": [
        {
          "output_type": "stream",
          "name": "stdout",
          "text": [
            "----------------------------------------------------------------\n",
            "        Layer (type)               Output Shape         Param #\n",
            "================================================================\n",
            "            Conv2d-1            [-1, 4, 26, 26]              36\n",
            "       BatchNorm2d-2            [-1, 4, 26, 26]               8\n",
            "              ReLU-3            [-1, 4, 26, 26]               0\n",
            "            Conv2d-4            [-1, 4, 24, 24]             144\n",
            "       BatchNorm2d-5            [-1, 4, 24, 24]               8\n",
            "              ReLU-6            [-1, 4, 24, 24]               0\n",
            "            Conv2d-7            [-1, 4, 22, 22]             144\n",
            "       BatchNorm2d-8            [-1, 4, 22, 22]               8\n",
            "              ReLU-9            [-1, 4, 22, 22]               0\n",
            "          Dropout-10            [-1, 4, 22, 22]               0\n",
            "        MaxPool2d-11            [-1, 4, 11, 11]               0\n",
            "           Conv2d-12            [-1, 8, 11, 11]              32\n",
            "      BatchNorm2d-13            [-1, 8, 11, 11]              16\n",
            "             ReLU-14            [-1, 8, 11, 11]               0\n",
            "           Conv2d-15              [-1, 8, 9, 9]             576\n",
            "      BatchNorm2d-16              [-1, 8, 9, 9]              16\n",
            "             ReLU-17              [-1, 8, 9, 9]               0\n",
            "           Conv2d-18              [-1, 8, 9, 9]             576\n",
            "      BatchNorm2d-19              [-1, 8, 9, 9]              16\n",
            "             ReLU-20              [-1, 8, 9, 9]               0\n",
            "          Dropout-21              [-1, 8, 9, 9]               0\n",
            "           Conv2d-22             [-1, 16, 7, 7]           1,152\n",
            "      BatchNorm2d-23             [-1, 16, 7, 7]              32\n",
            "             ReLU-24             [-1, 16, 7, 7]               0\n",
            "           Conv2d-25             [-1, 16, 5, 5]           2,304\n",
            "      BatchNorm2d-26             [-1, 16, 5, 5]              32\n",
            "             ReLU-27             [-1, 16, 5, 5]               0\n",
            "          Dropout-28             [-1, 16, 5, 5]               0\n",
            "           Conv2d-29             [-1, 16, 5, 5]           2,304\n",
            "      BatchNorm2d-30             [-1, 16, 5, 5]              32\n",
            "             ReLU-31             [-1, 16, 5, 5]               0\n",
            "           Conv2d-32             [-1, 10, 5, 5]             160\n",
            "        AvgPool2d-33             [-1, 10, 1, 1]               0\n",
            "================================================================\n",
            "Total params: 7,596\n",
            "Trainable params: 7,596\n",
            "Non-trainable params: 0\n",
            "----------------------------------------------------------------\n",
            "Input size (MB): 0.00\n",
            "Forward/backward pass size (MB): 0.28\n",
            "Params size (MB): 0.03\n",
            "Estimated Total Size (MB): 0.31\n",
            "----------------------------------------------------------------\n"
          ]
        }
      ]
    },
    {
      "cell_type": "markdown",
      "metadata": {
        "id": "M3-vp8X9LCWo"
      },
      "source": [
        "# Model Params\n",
        "Can't emphasize on how important viewing Model Summary is.\n",
        "Unfortunately, there is no in-built model visualizer, so we have to take external help"
      ]
    },
    {
      "cell_type": "code",
      "execution_count": 8,
      "metadata": {
        "colab": {
          "base_uri": "https://localhost:8080/"
        },
        "id": "5skB97zIJQQe",
        "outputId": "f31b21bf-5d1a-4505-f95e-3581d5f3531a"
      },
      "outputs": [
        {
          "output_type": "stream",
          "name": "stdout",
          "text": [
            "----------------------------------------------------------------\n",
            "        Layer (type)               Output Shape         Param #\n",
            "================================================================\n",
            "            Conv2d-1            [-1, 4, 26, 26]              36\n",
            "       BatchNorm2d-2            [-1, 4, 26, 26]               8\n",
            "              ReLU-3            [-1, 4, 26, 26]               0\n",
            "            Conv2d-4            [-1, 4, 24, 24]             144\n",
            "       BatchNorm2d-5            [-1, 4, 24, 24]               8\n",
            "              ReLU-6            [-1, 4, 24, 24]               0\n",
            "            Conv2d-7            [-1, 4, 22, 22]             144\n",
            "       BatchNorm2d-8            [-1, 4, 22, 22]               8\n",
            "              ReLU-9            [-1, 4, 22, 22]               0\n",
            "          Dropout-10            [-1, 4, 22, 22]               0\n",
            "        MaxPool2d-11            [-1, 4, 11, 11]               0\n",
            "           Conv2d-12            [-1, 8, 11, 11]              32\n",
            "      BatchNorm2d-13            [-1, 8, 11, 11]              16\n",
            "             ReLU-14            [-1, 8, 11, 11]               0\n",
            "           Conv2d-15              [-1, 8, 9, 9]             576\n",
            "      BatchNorm2d-16              [-1, 8, 9, 9]              16\n",
            "             ReLU-17              [-1, 8, 9, 9]               0\n",
            "           Conv2d-18              [-1, 8, 9, 9]             576\n",
            "      BatchNorm2d-19              [-1, 8, 9, 9]              16\n",
            "             ReLU-20              [-1, 8, 9, 9]               0\n",
            "          Dropout-21              [-1, 8, 9, 9]               0\n",
            "           Conv2d-22             [-1, 16, 7, 7]           1,152\n",
            "      BatchNorm2d-23             [-1, 16, 7, 7]              32\n",
            "             ReLU-24             [-1, 16, 7, 7]               0\n",
            "           Conv2d-25             [-1, 16, 5, 5]           2,304\n",
            "      BatchNorm2d-26             [-1, 16, 5, 5]              32\n",
            "             ReLU-27             [-1, 16, 5, 5]               0\n",
            "          Dropout-28             [-1, 16, 5, 5]               0\n",
            "           Conv2d-29             [-1, 16, 5, 5]           2,304\n",
            "      BatchNorm2d-30             [-1, 16, 5, 5]              32\n",
            "             ReLU-31             [-1, 16, 5, 5]               0\n",
            "           Conv2d-32             [-1, 10, 5, 5]             160\n",
            "        AvgPool2d-33             [-1, 10, 1, 1]               0\n",
            "================================================================\n",
            "Total params: 7,596\n",
            "Trainable params: 7,596\n",
            "Non-trainable params: 0\n",
            "----------------------------------------------------------------\n",
            "Input size (MB): 0.00\n",
            "Forward/backward pass size (MB): 0.28\n",
            "Params size (MB): 0.03\n",
            "Estimated Total Size (MB): 0.31\n",
            "----------------------------------------------------------------\n"
          ]
        }
      ],
      "source": [
        "\n",
        "model = Net().to(device)\n",
        "summary(model, input_size=(1, 28, 28))"
      ]
    },
    {
      "cell_type": "markdown",
      "metadata": {
        "id": "1__x_SbrL7z3"
      },
      "source": [
        "# Training and Testing\n",
        "\n",
        "Looking at logs can be boring, so we'll introduce **tqdm** progressbar to get cooler logs.\n",
        "\n",
        "Let's write train and test functions"
      ]
    },
    {
      "cell_type": "code",
      "source": [
        "# Function fopr Training the model of the train dataset.\n",
        "from tqdm import tqdm\n",
        "train_losses = []\n",
        "test_losses = []\n",
        "train_acc = []\n",
        "test_acc = []\n",
        "def GetCorrectPredCount(pPrediction, pLabels):\n",
        "  return pPrediction.argmax(dim=1).eq(pLabels).sum().item()\n",
        "\n",
        "\n",
        "def train(model, device, train_loader, optimizer, epoch):\n",
        "    model.train()\n",
        "    pbar = tqdm(train_loader)\n",
        "\n",
        "    train_loss = 0\n",
        "    correct = 0\n",
        "    processed = 0\n",
        "\n",
        "    for batch_idx, (data, target) in enumerate(pbar):\n",
        "        data, target = data.to(device), target.to(device)\n",
        "        optimizer.zero_grad()\n",
        "\n",
        "        # Predict\n",
        "        output = model(data)\n",
        "\n",
        "        # Calculate loss\n",
        "        loss = F.nll_loss(output, target)\n",
        "        train_loss+=loss.item()\n",
        "\n",
        "        # Backpropagation\n",
        "        loss.backward()\n",
        "        optimizer.step()\n",
        "\n",
        "        correct += GetCorrectPredCount(output, target)\n",
        "        processed += len(data)\n",
        "        #pbar.set_description(desc= f'loss={loss.item()} batch_id={batch_idx}')\n",
        "        pbar.set_description(desc= f'Train: Loss={loss.item():0.4f} Batch_id={batch_idx} Accuracy={100*correct/processed:0.2f}')\n",
        "\n",
        "\n",
        "    train_acc.append(100*correct/processed)\n",
        "    train_losses.append(train_loss/len(train_loader))\n",
        "\n",
        "# Testing the trained model on test dataset to the check loss and model accuracy\n",
        "def test(model, device, test_loader):\n",
        "    model.eval()\n",
        "    test_loss = 0\n",
        "    correct = 0\n",
        "    with torch.no_grad():\n",
        "        for data, target in test_loader:\n",
        "            data, target = data.to(device), target.to(device)\n",
        "            output = model(data)\n",
        "            test_loss += F.nll_loss(output, target, reduction='sum').item()  # sum up batch loss\n",
        "            pred = output.argmax(dim=1, keepdim=True)  # get the index of the max log-probability\n",
        "            correct += pred.eq(target.view_as(pred)).sum().item()\n",
        "\n",
        "    test_loss /= len(test_loader.dataset)\n",
        "    test_acc.append(100. * correct / len(test_loader.dataset))\n",
        "    test_losses.append(test_loss)\n",
        "\n",
        "    print('\\nTest set: Average loss: {:.4f}, Accuracy: {}/{} ({:.2f}%)\\n'.format(\n",
        "        test_loss, correct, len(test_loader.dataset),\n",
        "        100. * correct / len(test_loader.dataset)))"
      ],
      "metadata": {
        "id": "iK45770Fv-j-"
      },
      "execution_count": 9,
      "outputs": []
    },
    {
      "cell_type": "markdown",
      "metadata": {
        "id": "drokW8wWODKq"
      },
      "source": [
        "# Let's Train and test our model"
      ]
    },
    {
      "cell_type": "code",
      "execution_count": 12,
      "metadata": {
        "colab": {
          "base_uri": "https://localhost:8080/"
        },
        "id": "xMCFxeAKOB53",
        "outputId": "29005e23-cee0-4c0c-8bfa-7a63c8921c69"
      },
      "outputs": [
        {
          "output_type": "stream",
          "name": "stdout",
          "text": [
            "EPOCH: 0\n"
          ]
        },
        {
          "output_type": "stream",
          "name": "stderr",
          "text": [
            "Train: Loss=0.0747 Batch_id=468 Accuracy=89.08: 100%|██████████| 469/469 [00:21<00:00, 21.44it/s]\n"
          ]
        },
        {
          "output_type": "stream",
          "name": "stdout",
          "text": [
            "\n",
            "Test set: Average loss: 0.0721, Accuracy: 9787/10000 (97.87%)\n",
            "\n",
            "EPOCH: 1\n"
          ]
        },
        {
          "output_type": "stream",
          "name": "stderr",
          "text": [
            "Train: Loss=0.1454 Batch_id=468 Accuracy=97.50: 100%|██████████| 469/469 [00:23<00:00, 19.87it/s]\n"
          ]
        },
        {
          "output_type": "stream",
          "name": "stdout",
          "text": [
            "\n",
            "Test set: Average loss: 0.0522, Accuracy: 9832/10000 (98.32%)\n",
            "\n",
            "EPOCH: 2\n"
          ]
        },
        {
          "output_type": "stream",
          "name": "stderr",
          "text": [
            "Train: Loss=0.0475 Batch_id=468 Accuracy=98.11: 100%|██████████| 469/469 [00:22<00:00, 20.87it/s]\n"
          ]
        },
        {
          "output_type": "stream",
          "name": "stdout",
          "text": [
            "\n",
            "Test set: Average loss: 0.0522, Accuracy: 9834/10000 (98.34%)\n",
            "\n",
            "EPOCH: 3\n"
          ]
        },
        {
          "output_type": "stream",
          "name": "stderr",
          "text": [
            "Train: Loss=0.0945 Batch_id=468 Accuracy=98.33: 100%|██████████| 469/469 [00:22<00:00, 20.64it/s]\n"
          ]
        },
        {
          "output_type": "stream",
          "name": "stdout",
          "text": [
            "\n",
            "Test set: Average loss: 0.0333, Accuracy: 9896/10000 (98.96%)\n",
            "\n",
            "EPOCH: 4\n"
          ]
        },
        {
          "output_type": "stream",
          "name": "stderr",
          "text": [
            "Train: Loss=0.0245 Batch_id=468 Accuracy=98.41: 100%|██████████| 469/469 [00:22<00:00, 20.65it/s]\n"
          ]
        },
        {
          "output_type": "stream",
          "name": "stdout",
          "text": [
            "\n",
            "Test set: Average loss: 0.0308, Accuracy: 9899/10000 (98.99%)\n",
            "\n",
            "EPOCH: 5\n"
          ]
        },
        {
          "output_type": "stream",
          "name": "stderr",
          "text": [
            "Train: Loss=0.0538 Batch_id=468 Accuracy=98.57: 100%|██████████| 469/469 [00:22<00:00, 20.40it/s]\n"
          ]
        },
        {
          "output_type": "stream",
          "name": "stdout",
          "text": [
            "\n",
            "Test set: Average loss: 0.0377, Accuracy: 9875/10000 (98.75%)\n",
            "\n",
            "EPOCH: 6\n"
          ]
        },
        {
          "output_type": "stream",
          "name": "stderr",
          "text": [
            "Train: Loss=0.0256 Batch_id=468 Accuracy=98.67: 100%|██████████| 469/469 [00:23<00:00, 20.09it/s]\n"
          ]
        },
        {
          "output_type": "stream",
          "name": "stdout",
          "text": [
            "\n",
            "Test set: Average loss: 0.0314, Accuracy: 9900/10000 (99.00%)\n",
            "\n",
            "EPOCH: 7\n"
          ]
        },
        {
          "output_type": "stream",
          "name": "stderr",
          "text": [
            "Train: Loss=0.0579 Batch_id=468 Accuracy=98.76: 100%|██████████| 469/469 [00:23<00:00, 19.77it/s]\n"
          ]
        },
        {
          "output_type": "stream",
          "name": "stdout",
          "text": [
            "\n",
            "Test set: Average loss: 0.0273, Accuracy: 9908/10000 (99.08%)\n",
            "\n",
            "EPOCH: 8\n"
          ]
        },
        {
          "output_type": "stream",
          "name": "stderr",
          "text": [
            "Train: Loss=0.0017 Batch_id=468 Accuracy=98.80: 100%|██████████| 469/469 [00:23<00:00, 19.64it/s]\n"
          ]
        },
        {
          "output_type": "stream",
          "name": "stdout",
          "text": [
            "\n",
            "Test set: Average loss: 0.0283, Accuracy: 9918/10000 (99.18%)\n",
            "\n",
            "EPOCH: 9\n"
          ]
        },
        {
          "output_type": "stream",
          "name": "stderr",
          "text": [
            "Train: Loss=0.0136 Batch_id=468 Accuracy=98.80: 100%|██████████| 469/469 [00:24<00:00, 19.18it/s]\n"
          ]
        },
        {
          "output_type": "stream",
          "name": "stdout",
          "text": [
            "\n",
            "Test set: Average loss: 0.0265, Accuracy: 9920/10000 (99.20%)\n",
            "\n",
            "EPOCH: 10\n"
          ]
        },
        {
          "output_type": "stream",
          "name": "stderr",
          "text": [
            "Train: Loss=0.0833 Batch_id=468 Accuracy=98.81: 100%|██████████| 469/469 [00:23<00:00, 20.06it/s]\n"
          ]
        },
        {
          "output_type": "stream",
          "name": "stdout",
          "text": [
            "\n",
            "Test set: Average loss: 0.0322, Accuracy: 9902/10000 (99.02%)\n",
            "\n",
            "EPOCH: 11\n"
          ]
        },
        {
          "output_type": "stream",
          "name": "stderr",
          "text": [
            "Train: Loss=0.0115 Batch_id=468 Accuracy=98.95: 100%|██████████| 469/469 [00:23<00:00, 20.19it/s]\n"
          ]
        },
        {
          "output_type": "stream",
          "name": "stdout",
          "text": [
            "\n",
            "Test set: Average loss: 0.0279, Accuracy: 9908/10000 (99.08%)\n",
            "\n",
            "EPOCH: 12\n"
          ]
        },
        {
          "output_type": "stream",
          "name": "stderr",
          "text": [
            "Train: Loss=0.0331 Batch_id=468 Accuracy=98.93: 100%|██████████| 469/469 [00:23<00:00, 20.04it/s]\n"
          ]
        },
        {
          "output_type": "stream",
          "name": "stdout",
          "text": [
            "\n",
            "Test set: Average loss: 0.0253, Accuracy: 9920/10000 (99.20%)\n",
            "\n",
            "EPOCH: 13\n"
          ]
        },
        {
          "output_type": "stream",
          "name": "stderr",
          "text": [
            "Train: Loss=0.0455 Batch_id=468 Accuracy=98.98: 100%|██████████| 469/469 [00:23<00:00, 20.28it/s]\n"
          ]
        },
        {
          "output_type": "stream",
          "name": "stdout",
          "text": [
            "\n",
            "Test set: Average loss: 0.0242, Accuracy: 9918/10000 (99.18%)\n",
            "\n",
            "EPOCH: 14\n"
          ]
        },
        {
          "output_type": "stream",
          "name": "stderr",
          "text": [
            "Train: Loss=0.1316 Batch_id=468 Accuracy=98.99: 100%|██████████| 469/469 [00:23<00:00, 20.29it/s]\n"
          ]
        },
        {
          "output_type": "stream",
          "name": "stdout",
          "text": [
            "\n",
            "Test set: Average loss: 0.0238, Accuracy: 9926/10000 (99.26%)\n",
            "\n"
          ]
        }
      ],
      "source": [
        "model =  Net().to(device)\n",
        "optimizer = optim.SGD(model.parameters(), lr=0.01, momentum=0.9)\n",
        "EPOCHS = 15\n",
        "for epoch in range(EPOCHS):\n",
        "    print(\"EPOCH:\", epoch)\n",
        "    train(model, device, train_loader, optimizer, epoch)\n",
        "    test(model, device, test_loader)"
      ]
    },
    {
      "cell_type": "code",
      "execution_count": 11,
      "metadata": {
        "id": "87RaqGSEOWDe",
        "colab": {
          "base_uri": "https://localhost:8080/",
          "height": 778
        },
        "outputId": "56410b5e-14c2-4725-f209-ccb8b87b9365"
      },
      "outputs": [
        {
          "output_type": "display_data",
          "data": {
            "text/plain": [
              "<Figure size 1500x1000 with 4 Axes>"
            ],
            "image/png": "[encoded data removed]"
          },
          "metadata": {}
        }
      ],
      "source": [
        "# Display the loss and accuracy in tranining and Test Data.\n",
        "from utils import display_plot\n",
        "\n",
        "display_plot(train_losses,train_acc,test_losses,test_acc)"
      ]
    },
    {
      "cell_type": "markdown",
      "source": [
        "## Model 1\n",
        "\n",
        "\n",
        "\n",
        "Model Name : Net1\n",
        "\n",
        "*Test Accuracy =  99.3% (max)\n",
        "\n",
        "*Train Accuracy = 99.7%\n",
        "\n",
        "*Total params: 15,580\n",
        "\n",
        "Analysis:\n",
        "1. Model is overfitting.\n",
        "2. Number of parameter is less though but model can perform better.\n",
        "3. Added one more convolution layer\n",
        "4. changed the number of channels on the model\n",
        "\n",
        "Model 2\n",
        "\n",
        "Model name : Net\n",
        "Results:\n",
        "\n",
        "\n",
        "*   Best Train Accuracy: 98.99%\n",
        "*   Best Test Accuracy: 99.26%\n",
        "*   Parameters: 7,596\n",
        "\n",
        "Analysis:\n",
        "1. Updating the Image augmentation to check the impact on model accuracy.\n",
        "2. Model is Underfitting.\n"
      ],
      "metadata": {
        "id": "xDhL4jvH_3tA"
      }
    }
  ],
  "metadata": {
    "accelerator": "GPU",
    "colab": {
      "provenance": []
    },
    "kernelspec": {
      "display_name": "Python 3",
      "name": "python3"
    }
  },
  "nbformat": 4,
  "nbformat_minor": 0
}